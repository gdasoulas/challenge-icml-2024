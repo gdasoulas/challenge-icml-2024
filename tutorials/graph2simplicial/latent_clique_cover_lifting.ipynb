{
  "cells": [
    {
      "cell_type": "markdown",
      "metadata": {
        "id": "BG6Sidog7_Sx"
      },
      "source": [
        "# Random Clique Cover for as Graph to (Latent) Simplicial Complex Lifting\n",
        "Large real-world graphs tend to be **sparse**, but they often contain **many densely connected subgraphs** and exhibit high clustering coefficients.  \n",
        "\n",
        "***\n",
        "\n",
        "Here we hinge on the recently proposed Bayesian nonparametric random graph model from [1] for **random clique covers**. The resulting distribution is guaranteed to capture power law degree distribution, global sparsity and non-vanishing local clustering coefficient.\n",
        "\n",
        "In the original work [1], the distribution has been used as a prior on observed graphs. In particular, in the Bayesian setting, given a graph, the model is useful to obtain a distribution on latent **clique complexes**, i.e. a specific class of **simplicial complexes**, whose 1-skeleton structural properties are consistent with the ones of the graph used to compute the likelihood.\n",
        "\n",
        "***\n",
        "\n",
        "In the context of **Topological Deep Learning** [2][3] and the very recently emerged paradigm of **Latent Topology Inference** (LTI) [4], it is natural to look at the model in [1] as a novel LTI method able to infer a **random latent simplicial complex** from an input graph. Or, in other words, to use [1] as a novel random lifting procedure from graphs to simplicial complexes.\n",
        "\n",
        "Next, we provide a quick introduction to the model in [1]. For a more in-depth exposition, please refer to the paper. To the best of our knowledge, this is the first random lifting procedure relying on Bayesian arguments.\n",
        "\n",
        "To summarize, this is:\n",
        "- a **non-deterministic** lifting,\n",
        "- **not present** in the literature as a lifting prcedure,\n",
        "- **based on connectivity**,\n",
        "-  **modifying** the initial connectivity of the graph."
      ]
    },
    {
      "cell_type": "markdown",
      "metadata": {
        "id": "LP2_Wv4JCJ_k"
      },
      "source": [
        "# The Random Clique Cover Model\n",
        "[MAURICIO]\n"
      ]
    },
    {
      "cell_type": "markdown",
      "metadata": {
        "id": "zwO1x_DO7_S2"
      },
      "source": [
        "### Imports and utilities"
      ]
    },
    {
      "cell_type": "code",
      "execution_count": 1,
      "metadata": {
        "id": "57UchYVC7_S2"
      },
      "outputs": [],
      "source": [
        "# With this cell any imported module is reloaded before each cell execution\n",
        "%load_ext autoreload\n",
        "%autoreload 2\n",
        "from modules.data.load.loaders import GraphLoader\n",
        "from modules.data.preprocess.preprocessor import PreProcessor\n",
        "from modules.utils.utils import (\n",
        "    describe_data,\n",
        "    load_dataset_config,\n",
        "    load_model_config,\n",
        "    load_transform_config,\n",
        ")"
      ]
    },
    {
      "cell_type": "markdown",
      "metadata": {
        "id": "QT66tmQI7_S4"
      },
      "source": [
        "## Loading the Dataset"
      ]
    },
    {
      "cell_type": "markdown",
      "metadata": {
        "id": "64329g4t7_S5"
      },
      "source": [
        "Here we just need to spicify the name of the available dataset that we want to load. First, the dataset config is read from the corresponding yaml file (located at `/configs/datasets/` directory), and then the data is loaded via the implemented `Loaders`.\n"
      ]
    },
    {
      "cell_type": "code",
      "execution_count": 2,
      "metadata": {
        "id": "UbmUG36C7_S5",
        "outputId": "76236ab6-deb6-4ec2-eabd-af2c736d03b2"
      },
      "outputs": [
        {
          "name": "stdout",
          "output_type": "stream",
          "text": [
            "\n",
            "Dataset configuration for cocitation_cora:\n",
            "\n",
            "{'data_domain': 'graph',\n",
            " 'data_type': 'cocitation',\n",
            " 'data_name': 'Cora',\n",
            " 'data_dir': 'datasets/graph/cocitation',\n",
            " 'num_features': 1433,\n",
            " 'num_classes': 7,\n",
            " 'task': 'classification',\n",
            " 'loss_type': 'cross_entropy',\n",
            " 'monitor_metric': 'accuracy',\n",
            " 'task_level': 'node'}\n"
          ]
        }
      ],
      "source": [
        "dataset_name = \"cocitation_cora\"\n",
        "dataset_config = load_dataset_config(dataset_name)\n",
        "loader = GraphLoader(dataset_config)"
      ]
    },
    {
      "cell_type": "markdown",
      "metadata": {
        "id": "l_E44jL47_S6"
      },
      "source": [
        "We can then access to the data through the `load()`method:"
      ]
    },
    {
      "cell_type": "code",
      "execution_count": 3,
      "metadata": {
        "id": "up50j-UL7_S6",
        "outputId": "5ffe612b-4d56-4323-9b0e-ac1f1f26cc43"
      },
      "outputs": [
        {
          "name": "stdout",
          "output_type": "stream",
          "text": [
            "\n",
            "Dataset only contains 1 sample:\n",
            " - Graph with 2708 vertices and 10556 edges.\n",
            " - Features dimensions: [1433, 0]\n",
            " - There are 0 isolated nodes.\n",
            "\n"
          ]
        }
      ],
      "source": [
        "dataset = loader.load()\n",
        "describe_data(dataset)"
      ]
    },
    {
      "cell_type": "markdown",
      "metadata": {
        "id": "5AqR_qW57_S7"
      },
      "source": [
        "## Loading and Applying the Lifting"
      ]
    },
    {
      "cell_type": "markdown",
      "metadata": {
        "id": "bkxFYBIo7_S7"
      },
      "source": [
        "In this section we will instantiate the random clique lifting.\n",
        "\n",
        "For simplicial complexes creating a lifting involves creating a `SimplicialComplex` object from topomodelx and adding simplices to it using the method `add_simplices_from`. The `SimplicialComplex` class then takes care of creating all the needed matrices.\n",
        "\n",
        "Similarly to before, we can specify the transformation we want to apply through its type and id --the correxponding config files located at `/configs/transforms`.\n",
        "\n",
        "Note that the *tranform_config* dictionary generated below can contain a sequence of tranforms if it is needed."
      ]
    },
    {
      "cell_type": "code",
      "execution_count": 4,
      "metadata": {
        "id": "5Dr9I7so7_S7",
        "outputId": "10154dc6-4008-4c87-e8aa-fea05354a426"
      },
      "outputs": [
        {
          "name": "stdout",
          "output_type": "stream",
          "text": [
            "\n",
            "Transform configuration for graph2simplicial/latent_clique_cover_lifting:\n",
            "\n",
            "{'transform_type': 'lifting',\n",
            " 'transform_name': 'LatentCliqueCoverLifting',\n",
            " 'complex_dim': 3,\n",
            " 'preserve_edge_attr': False,\n",
            " 'signed': True,\n",
            " 'feature_lifting': 'ProjectionSum'}\n"
          ]
        }
      ],
      "source": [
        "# Define transformation type and id\n",
        "transform_type = \"liftings\"\n",
        "# If the transform is a topological lifting, it should include both the type of the lifting and the identifier\n",
        "transform_id = \"graph2simplicial/latent_clique_cover_lifting\"\n",
        "\n",
        "# Read yaml file\n",
        "transform_config = {\n",
        "    \"lifting\": load_transform_config(transform_type, transform_id)\n",
        "    # other transforms (e.g. data manipulations, feature liftings) can be added here\n",
        "}"
      ]
    },
    {
      "cell_type": "markdown",
      "metadata": {
        "id": "boc1dTPG7_S8"
      },
      "source": [
        "We than apply the transform via our `PreProcesor`:"
      ]
    },
    {
      "cell_type": "code",
      "execution_count": 5,
      "metadata": {
        "id": "ce40dscK7_S8",
        "outputId": "270c8466-4021-49b3-f139-0c0a46033fa6"
      },
      "outputs": [
        {
          "name": "stderr",
          "output_type": "stream",
          "text": [
            "Processing...\n"
          ]
        }
      ],
      "source": [
        "lifted_dataset = PreProcessor(dataset, transform_config, loader.data_dir)\n",
        "describe_data(lifted_dataset)"
      ]
    },
    {
      "cell_type": "markdown",
      "metadata": {
        "id": "qB_LYbpq7_S8"
      },
      "source": [
        "## Create and Run a Simplicial NN Model"
      ]
    },
    {
      "cell_type": "markdown",
      "metadata": {
        "id": "9KrHlgF37_S8"
      },
      "source": [
        "In this section a simple model is created to test that the used lifting works as intended. In this case the model uses the `up_laplacian_1` and the `down_laplacian_1` so the lifting should make sure to add them to the data."
      ]
    },
    {
      "cell_type": "code",
      "execution_count": null,
      "metadata": {
        "id": "a9LLNqYo7_S8",
        "outputId": "ed0651d6-da7a-4cf3-ac4e-540b9347ffd4"
      },
      "outputs": [
        {
          "name": "stdout",
          "output_type": "stream",
          "text": [
            "\n",
            "Model configuration for simplicial SAN:\n",
            "\n",
            "{'in_channels': None,\n",
            " 'hidden_channels': 32,\n",
            " 'out_channels': None,\n",
            " 'n_layers': 2,\n",
            " 'n_filters': 2,\n",
            " 'order_harmonic': 5,\n",
            " 'epsilon_harmonic': 0.1}\n"
          ]
        }
      ],
      "source": [
        "from modules.models.simplicial.san import SANModel\n",
        "\n",
        "model_type = \"simplicial\"\n",
        "model_id = \"san\"\n",
        "model_config = load_model_config(model_type, model_id)\n",
        "\n",
        "model = SANModel(model_config, dataset_config)"
      ]
    },
    {
      "cell_type": "code",
      "execution_count": null,
      "metadata": {
        "id": "6jhtKng_7_S8"
      },
      "outputs": [],
      "source": [
        "y_hat = model(lifted_dataset.get(0))"
      ]
    },
    {
      "cell_type": "markdown",
      "metadata": {
        "id": "k7jJJHFC7_S9"
      },
      "source": [
        "If everything is correct the cell above should execute without errors."
      ]
    },
    {
      "cell_type": "markdown",
      "metadata": {
        "id": "UWjVkvYIDhJM"
      },
      "source": [
        "# References"
      ]
    },
    {
      "cell_type": "markdown",
      "metadata": {
        "id": "fv4aF-IeDj2b"
      },
      "source": [
        "***\n",
        "[[1]](http://proceedings.mlr.press/v115/williamson20a/williamson20a.pdf) Williamson, Sinead A., and Mauricio Tec. \"Random clique covers for graphs with local density and global sparsity.\" Uncertainty in Artificial Intelligence (UAI). PMLR, 2020.\n",
        "\n",
        "[[2]](https://arxiv.org/abs/2402.08871)  Papamarkou, Theodore, et al. \"Position paper: Challenges and opportunities in topological deep learning.\" arXiv preprint arXiv:2402.08871 (2024).\n",
        "\n",
        "[[3]](https://arxiv.org/abs/2206.00606) Hajij, Mustafa, et al. \"Topological deep learning: Going beyond graph data.\" arXiv preprint arXiv:2206.00606 (2022).\n",
        "\n",
        "[[4]](https://openreview.net/forum?id=0JsRZEGZ7L) Battiloro, Claudio, et al. \"From latent graph to latent topology inference: Differentiable cell complex module.\" The Twelfth International Conference on Learning Representations (ICLR), 2024.\n",
        "\n",
        "***\n"
      ]
    },
    {
      "cell_type": "code",
      "execution_count": null,
      "metadata": {
        "id": "T8XHAVUWFQeN"
      },
      "outputs": [],
      "source": []
    }
  ],
  "metadata": {
    "colab": {
      "provenance": []
    },
    "kernelspec": {
      "display_name": "venv_topox",
      "language": "python",
      "name": "python3"
    },
    "language_info": {
      "codemirror_mode": {
        "name": "ipython",
        "version": 3
      },
      "file_extension": ".py",
      "mimetype": "text/x-python",
      "name": "python",
      "nbconvert_exporter": "python",
      "pygments_lexer": "ipython3",
      "version": "3.11.3"
    }
  },
  "nbformat": 4,
  "nbformat_minor": 0
}
